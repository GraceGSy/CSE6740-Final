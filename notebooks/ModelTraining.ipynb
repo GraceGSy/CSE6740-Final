{
  "nbformat": 4,
  "nbformat_minor": 0,
  "metadata": {
    "colab": {
      "name": "ModelTraining.ipynb",
      "provenance": [],
      "collapsed_sections": [],
      "toc_visible": true
    },
    "kernelspec": {
      "name": "python3",
      "display_name": "Python 3"
    },
    "language_info": {
      "name": "python"
    }
  },
  "cells": [
    {
      "cell_type": "markdown",
      "source": [
        "We implemented a total of eight classification models for classifying the genres, including Linear Regression, Logistic Regression, Random Forest Classifier, Support Vector Machine, Multi-layer Perceptron Classifier, Gaussian Process Classifier, Gaussian Naive Bayes, and KNN Classifier."
      ],
      "metadata": {
        "id": "QCfe-d4fM0nh"
      }
    },
    {
      "cell_type": "markdown",
      "source": [
        "# Import Libraries"
      ],
      "metadata": {
        "id": "U-cHhbNbgl6G"
      }
    },
    {
      "cell_type": "code",
      "execution_count": null,
      "metadata": {
        "id": "QqSLtVoogZTT"
      },
      "outputs": [],
      "source": [
        "%matplotlib inline\n",
        "import csv\n",
        "import librosa\n",
        "import librosa.display\n",
        "# import sklearn\n",
        "import matplotlib.pyplot as plt\n",
        "import IPython.display as ipd\n",
        "import os, glob\n",
        "import pkg_resources\n",
        "from pkg_resources import DistributionNotFound, VersionConflict\n",
        "from platform import python_version\n",
        "import numpy as np\n",
        "import pandas as pd\n",
        "import time\n",
        "import gc\n",
        "import random\n",
        "from sklearn.model_selection import cross_val_score, GridSearchCV, cross_validate, train_test_split\n",
        "from sklearn.metrics import accuracy_score, classification_report\n",
        "from sklearn.svm import SVC\n",
        "from sklearn.linear_model import LinearRegression\n",
        "from sklearn.linear_model import LogisticRegression\n",
        "from sklearn.neural_network import MLPClassifier\n",
        "from sklearn.ensemble import RandomForestClassifier\n",
        "from sklearn.preprocessing import StandardScaler, normalize\n",
        "from sklearn.decomposition import PCA\n",
        "from sklearn.impute import SimpleImputer\n",
        "from sklearn.gaussian_process import GaussianProcessClassifier\n",
        "from sklearn.naive_bayes import GaussianNB\n",
        "from sklearn.neighbors import KNeighborsClassifier\n",
        "from sklearn.mixture import GaussianMixture"
      ]
    },
    {
      "cell_type": "markdown",
      "source": [
        "# Load Data\n",
        "We first loaded the data file saved in the feature extraction step."
      ],
      "metadata": {
        "id": "DcU17sEeg-9Z"
      }
    },
    {
      "cell_type": "code",
      "source": [
        "print(\"reading the data\")\n",
        "data = pd.read_csv('music-data-with-filenames.csv', sep='\\t')\n",
        "data = data.iloc[: , 1:]\n",
        "headers = list(data.columns)\n",
        "random_state = 128\n",
        "data.head()"
      ],
      "metadata": {
        "colab": {
          "base_uri": "https://localhost:8080/",
          "height": 374
        },
        "id": "7O1ZWmjeh9yI",
        "outputId": "93449b28-9668-498d-d64e-7621d5e1ad70"
      },
      "execution_count": null,
      "outputs": [
        {
          "output_type": "stream",
          "name": "stdout",
          "text": [
            "reading the data\n"
          ]
        },
        {
          "output_type": "execute_result",
          "data": {
            "text/plain": [
              "                                      filepath       filename genre  \\\n",
              "0  data/music-genres-dataset/pop/pop.00027.wav  pop.00027.wav   pop   \n",
              "1  data/music-genres-dataset/pop/pop.00033.wav  pop.00033.wav   pop   \n",
              "2  data/music-genres-dataset/pop/pop.00032.wav  pop.00032.wav   pop   \n",
              "3  data/music-genres-dataset/pop/pop.00026.wav  pop.00026.wav   pop   \n",
              "4  data/music-genres-dataset/pop/pop.00030.wav  pop.00030.wav   pop   \n",
              "\n",
              "       beats       tempo       plp  spectrogram  chromagram  tempogram  \\\n",
              "0  83.354335   83.354335  0.000000    -4.269063    0.377612   0.127005   \n",
              "1  99.384014   99.384014  0.000000    -3.781867    0.423036   0.158264   \n",
              "2  95.703125   95.703125  0.519045    -4.358516    0.426769   0.121314   \n",
              "3  75.999540  151.999081  0.000000    -4.899115    0.334962   0.133198   \n",
              "4  95.703125   95.703125  0.472598     0.983008    0.357630   0.140248   \n",
              "\n",
              "   zero_crossings  zero_crossing_rate  spectral_centroid  spectral_rolloff  \\\n",
              "0           67487            0.101867        2682.284141       5956.078988   \n",
              "1           90785            0.137010        2835.119375       5944.979313   \n",
              "2          151492            0.228641        4225.461049       8483.382577   \n",
              "3           68571            0.103494        2525.591959       5552.801896   \n",
              "4           98516            0.148679        3070.672741       6653.076965   \n",
              "\n",
              "   spectral_contrast  spectral_bandwidth  spectral_flatness       rms  \\\n",
              "0          22.257478         2923.967729           0.047303  0.157902   \n",
              "1          18.068245         2731.752387           0.061382  0.139896   \n",
              "2          18.657617         3404.380733           0.125869  0.097861   \n",
              "3          23.054193         2848.409561           0.030347  0.195626   \n",
              "4          17.128994         2975.765677           0.075034  0.203093   \n",
              "\n",
              "      mfccs  \n",
              "0  2.080450  \n",
              "1  0.843129  \n",
              "2 -0.666234  \n",
              "3  2.070004  \n",
              "4  2.515382  "
            ],
            "text/html": [
              "\n",
              "  <div id=\"df-2b02929d-9c8c-436b-ad62-98ce7e460291\">\n",
              "    <div class=\"colab-df-container\">\n",
              "      <div>\n",
              "<style scoped>\n",
              "    .dataframe tbody tr th:only-of-type {\n",
              "        vertical-align: middle;\n",
              "    }\n",
              "\n",
              "    .dataframe tbody tr th {\n",
              "        vertical-align: top;\n",
              "    }\n",
              "\n",
              "    .dataframe thead th {\n",
              "        text-align: right;\n",
              "    }\n",
              "</style>\n",
              "<table border=\"1\" class=\"dataframe\">\n",
              "  <thead>\n",
              "    <tr style=\"text-align: right;\">\n",
              "      <th></th>\n",
              "      <th>filepath</th>\n",
              "      <th>filename</th>\n",
              "      <th>genre</th>\n",
              "      <th>beats</th>\n",
              "      <th>tempo</th>\n",
              "      <th>plp</th>\n",
              "      <th>spectrogram</th>\n",
              "      <th>chromagram</th>\n",
              "      <th>tempogram</th>\n",
              "      <th>zero_crossings</th>\n",
              "      <th>zero_crossing_rate</th>\n",
              "      <th>spectral_centroid</th>\n",
              "      <th>spectral_rolloff</th>\n",
              "      <th>spectral_contrast</th>\n",
              "      <th>spectral_bandwidth</th>\n",
              "      <th>spectral_flatness</th>\n",
              "      <th>rms</th>\n",
              "      <th>mfccs</th>\n",
              "    </tr>\n",
              "  </thead>\n",
              "  <tbody>\n",
              "    <tr>\n",
              "      <th>0</th>\n",
              "      <td>data/music-genres-dataset/pop/pop.00027.wav</td>\n",
              "      <td>pop.00027.wav</td>\n",
              "      <td>pop</td>\n",
              "      <td>83.354335</td>\n",
              "      <td>83.354335</td>\n",
              "      <td>0.000000</td>\n",
              "      <td>-4.269063</td>\n",
              "      <td>0.377612</td>\n",
              "      <td>0.127005</td>\n",
              "      <td>67487</td>\n",
              "      <td>0.101867</td>\n",
              "      <td>2682.284141</td>\n",
              "      <td>5956.078988</td>\n",
              "      <td>22.257478</td>\n",
              "      <td>2923.967729</td>\n",
              "      <td>0.047303</td>\n",
              "      <td>0.157902</td>\n",
              "      <td>2.080450</td>\n",
              "    </tr>\n",
              "    <tr>\n",
              "      <th>1</th>\n",
              "      <td>data/music-genres-dataset/pop/pop.00033.wav</td>\n",
              "      <td>pop.00033.wav</td>\n",
              "      <td>pop</td>\n",
              "      <td>99.384014</td>\n",
              "      <td>99.384014</td>\n",
              "      <td>0.000000</td>\n",
              "      <td>-3.781867</td>\n",
              "      <td>0.423036</td>\n",
              "      <td>0.158264</td>\n",
              "      <td>90785</td>\n",
              "      <td>0.137010</td>\n",
              "      <td>2835.119375</td>\n",
              "      <td>5944.979313</td>\n",
              "      <td>18.068245</td>\n",
              "      <td>2731.752387</td>\n",
              "      <td>0.061382</td>\n",
              "      <td>0.139896</td>\n",
              "      <td>0.843129</td>\n",
              "    </tr>\n",
              "    <tr>\n",
              "      <th>2</th>\n",
              "      <td>data/music-genres-dataset/pop/pop.00032.wav</td>\n",
              "      <td>pop.00032.wav</td>\n",
              "      <td>pop</td>\n",
              "      <td>95.703125</td>\n",
              "      <td>95.703125</td>\n",
              "      <td>0.519045</td>\n",
              "      <td>-4.358516</td>\n",
              "      <td>0.426769</td>\n",
              "      <td>0.121314</td>\n",
              "      <td>151492</td>\n",
              "      <td>0.228641</td>\n",
              "      <td>4225.461049</td>\n",
              "      <td>8483.382577</td>\n",
              "      <td>18.657617</td>\n",
              "      <td>3404.380733</td>\n",
              "      <td>0.125869</td>\n",
              "      <td>0.097861</td>\n",
              "      <td>-0.666234</td>\n",
              "    </tr>\n",
              "    <tr>\n",
              "      <th>3</th>\n",
              "      <td>data/music-genres-dataset/pop/pop.00026.wav</td>\n",
              "      <td>pop.00026.wav</td>\n",
              "      <td>pop</td>\n",
              "      <td>75.999540</td>\n",
              "      <td>151.999081</td>\n",
              "      <td>0.000000</td>\n",
              "      <td>-4.899115</td>\n",
              "      <td>0.334962</td>\n",
              "      <td>0.133198</td>\n",
              "      <td>68571</td>\n",
              "      <td>0.103494</td>\n",
              "      <td>2525.591959</td>\n",
              "      <td>5552.801896</td>\n",
              "      <td>23.054193</td>\n",
              "      <td>2848.409561</td>\n",
              "      <td>0.030347</td>\n",
              "      <td>0.195626</td>\n",
              "      <td>2.070004</td>\n",
              "    </tr>\n",
              "    <tr>\n",
              "      <th>4</th>\n",
              "      <td>data/music-genres-dataset/pop/pop.00030.wav</td>\n",
              "      <td>pop.00030.wav</td>\n",
              "      <td>pop</td>\n",
              "      <td>95.703125</td>\n",
              "      <td>95.703125</td>\n",
              "      <td>0.472598</td>\n",
              "      <td>0.983008</td>\n",
              "      <td>0.357630</td>\n",
              "      <td>0.140248</td>\n",
              "      <td>98516</td>\n",
              "      <td>0.148679</td>\n",
              "      <td>3070.672741</td>\n",
              "      <td>6653.076965</td>\n",
              "      <td>17.128994</td>\n",
              "      <td>2975.765677</td>\n",
              "      <td>0.075034</td>\n",
              "      <td>0.203093</td>\n",
              "      <td>2.515382</td>\n",
              "    </tr>\n",
              "  </tbody>\n",
              "</table>\n",
              "</div>\n",
              "      <button class=\"colab-df-convert\" onclick=\"convertToInteractive('df-2b02929d-9c8c-436b-ad62-98ce7e460291')\"\n",
              "              title=\"Convert this dataframe to an interactive table.\"\n",
              "              style=\"display:none;\">\n",
              "        \n",
              "  <svg xmlns=\"http://www.w3.org/2000/svg\" height=\"24px\"viewBox=\"0 0 24 24\"\n",
              "       width=\"24px\">\n",
              "    <path d=\"M0 0h24v24H0V0z\" fill=\"none\"/>\n",
              "    <path d=\"M18.56 5.44l.94 2.06.94-2.06 2.06-.94-2.06-.94-.94-2.06-.94 2.06-2.06.94zm-11 1L8.5 8.5l.94-2.06 2.06-.94-2.06-.94L8.5 2.5l-.94 2.06-2.06.94zm10 10l.94 2.06.94-2.06 2.06-.94-2.06-.94-.94-2.06-.94 2.06-2.06.94z\"/><path d=\"M17.41 7.96l-1.37-1.37c-.4-.4-.92-.59-1.43-.59-.52 0-1.04.2-1.43.59L10.3 9.45l-7.72 7.72c-.78.78-.78 2.05 0 2.83L4 21.41c.39.39.9.59 1.41.59.51 0 1.02-.2 1.41-.59l7.78-7.78 2.81-2.81c.8-.78.8-2.07 0-2.86zM5.41 20L4 18.59l7.72-7.72 1.47 1.35L5.41 20z\"/>\n",
              "  </svg>\n",
              "      </button>\n",
              "      \n",
              "  <style>\n",
              "    .colab-df-container {\n",
              "      display:flex;\n",
              "      flex-wrap:wrap;\n",
              "      gap: 12px;\n",
              "    }\n",
              "\n",
              "    .colab-df-convert {\n",
              "      background-color: #E8F0FE;\n",
              "      border: none;\n",
              "      border-radius: 50%;\n",
              "      cursor: pointer;\n",
              "      display: none;\n",
              "      fill: #1967D2;\n",
              "      height: 32px;\n",
              "      padding: 0 0 0 0;\n",
              "      width: 32px;\n",
              "    }\n",
              "\n",
              "    .colab-df-convert:hover {\n",
              "      background-color: #E2EBFA;\n",
              "      box-shadow: 0px 1px 2px rgba(60, 64, 67, 0.3), 0px 1px 3px 1px rgba(60, 64, 67, 0.15);\n",
              "      fill: #174EA6;\n",
              "    }\n",
              "\n",
              "    [theme=dark] .colab-df-convert {\n",
              "      background-color: #3B4455;\n",
              "      fill: #D2E3FC;\n",
              "    }\n",
              "\n",
              "    [theme=dark] .colab-df-convert:hover {\n",
              "      background-color: #434B5C;\n",
              "      box-shadow: 0px 1px 3px 1px rgba(0, 0, 0, 0.15);\n",
              "      filter: drop-shadow(0px 1px 2px rgba(0, 0, 0, 0.3));\n",
              "      fill: #FFFFFF;\n",
              "    }\n",
              "  </style>\n",
              "\n",
              "      <script>\n",
              "        const buttonEl =\n",
              "          document.querySelector('#df-2b02929d-9c8c-436b-ad62-98ce7e460291 button.colab-df-convert');\n",
              "        buttonEl.style.display =\n",
              "          google.colab.kernel.accessAllowed ? 'block' : 'none';\n",
              "\n",
              "        async function convertToInteractive(key) {\n",
              "          const element = document.querySelector('#df-2b02929d-9c8c-436b-ad62-98ce7e460291');\n",
              "          const dataTable =\n",
              "            await google.colab.kernel.invokeFunction('convertToInteractive',\n",
              "                                                     [key], {});\n",
              "          if (!dataTable) return;\n",
              "\n",
              "          const docLinkHtml = 'Like what you see? Visit the ' +\n",
              "            '<a target=\"_blank\" href=https://colab.research.google.com/notebooks/data_table.ipynb>data table notebook</a>'\n",
              "            + ' to learn more about interactive tables.';\n",
              "          element.innerHTML = '';\n",
              "          dataTable['output_type'] = 'display_data';\n",
              "          await google.colab.output.renderOutput(dataTable, element);\n",
              "          const docLink = document.createElement('div');\n",
              "          docLink.innerHTML = docLinkHtml;\n",
              "          element.appendChild(docLink);\n",
              "        }\n",
              "      </script>\n",
              "    </div>\n",
              "  </div>\n",
              "  "
            ]
          },
          "metadata": {},
          "execution_count": 124
        }
      ]
    },
    {
      "cell_type": "markdown",
      "source": [
        "# Preprocess Data\n",
        "We separated the dataset into the feature columns and the target column, and also removed some unneeded columns. For the training columns, as shown in the table above, the ranges of different features varied a lot. So in order to use a common scale, we performed normalization on the feature columns. We also encoded the target column, converting the genres from strings to integers. Finally, as the last step of the data preparation, we shuffled the dataset and then split the dataset into training data and test data with a ratio of 80% to 20%."
      ],
      "metadata": {
        "id": "_BNubjld5asM"
      }
    },
    {
      "cell_type": "code",
      "source": [
        "# get feature columns and normalization\n",
        "scaler = StandardScaler()\n",
        "x_data = scaler.fit_transform(np.array(data.loc[:, ~data.columns.isin([\"genre\", \"filepath\", \"filename\"])], dtype = float))\n",
        "\n",
        "# get target column\n",
        "y_data = data.loc[:, \"genre\"]\n",
        "\n",
        "# remove unneeded columns\n",
        "file_data = data.loc[:, data.columns.isin([\"filepath\", \"filename\"])]\n",
        "\n",
        "genre_list = pd.unique(y_data)\n",
        "genre_dict = {}\n",
        "genre_reverse_dict = {}\n",
        "for i in range(0, len(genre_list)):\n",
        "  genre_dict[genre_list[i]] = i\n",
        "  genre_reverse_dict[i] = genre_list[i]\n",
        "\n",
        "y_data = y_data.apply(lambda x: genre_dict[x])\n",
        "\n",
        "x_train, x_test, y_train, y_test, file_train, file_test = train_test_split(x_data, y_data, file_data, test_size=0.30, random_state=random_state, shuffle=True)"
      ],
      "metadata": {
        "id": "57_A4Asx5hBK"
      },
      "execution_count": null,
      "outputs": []
    },
    {
      "cell_type": "markdown",
      "source": [
        "# Report Generation Function"
      ],
      "metadata": {
        "id": "nd8_L2F7YXE1"
      }
    },
    {
      "cell_type": "code",
      "source": [
        "def generateReport(target_column, prediction_column, training_columns, unneeded_columns, classification_type, data_type):\n",
        "  original_output_filename = classification_type + \"-\" + data_type + \"-original.csv\"\n",
        "  original_genre_column = target_column.apply(lambda x: genre_reverse_dict[x])\n",
        "  original = pd.concat([pd.DataFrame(unneeded_columns).reset_index(drop=True), pd.DataFrame(original_genre_column).reset_index(drop=True), pd.DataFrame(training_columns)], axis=1)\n",
        "  original.columns = headers\n",
        "  original.to_csv(original_output_filename, sep=\",\", header=True, index=True)\n",
        "\n",
        "  predict_output_filename = classification_type + \"-\" + data_type + \"-predict.csv\"\n",
        "  predict_genre_column = pd.DataFrame(prediction_column)[0].apply(lambda x: genre_reverse_dict[x])\n",
        "  predict = pd.concat([pd.DataFrame(unneeded_columns).reset_index(drop=True), pd.DataFrame(predict_genre_column).reset_index(drop=True), pd.DataFrame(training_columns)], axis=1)\n",
        "  predict.columns = headers\n",
        "  predict.to_csv(predict_output_filename, sep=\",\", header=True, index=True)\n",
        "\n",
        "  report_output_filename = classification_type + \"-\" + data_type + \"-report.csv\"\n",
        "  report = pd.DataFrame(classification_report(target_column, prediction_column, target_names=genre_list, output_dict=True)).to_csv(report_output_filename, sep=\",\", header=True, index=True)"
      ],
      "metadata": {
        "id": "dOtKfQy0Ydgw"
      },
      "execution_count": null,
      "outputs": []
    },
    {
      "cell_type": "markdown",
      "source": [
        "\n",
        "The model was trained one by one with the exact same training data and test data."
      ],
      "metadata": {
        "id": "QqMiGdUqNsCq"
      }
    },
    {
      "cell_type": "markdown",
      "source": [
        "# Linear Regression"
      ],
      "metadata": {
        "id": "y0-Amhwp-_pW"
      }
    },
    {
      "cell_type": "code",
      "source": [
        "lin_reg = LinearRegression().fit(x_train, y_train)\n",
        "y_predict_train = lin_reg.predict(x_train)\n",
        "y_predict_test = lin_reg.predict(x_test)\n",
        "\n",
        "rounded_predict_train = [round(x) for x in y_predict_train]\n",
        "train_accuracy = accuracy_score(y_train, rounded_predict_train)\n",
        "print(\"Linear Regression Train Accuracy:\", train_accuracy)\n",
        "\n",
        "rounded_predict_test = [round(x) for x in y_predict_test]\n",
        "for i in range(len(rounded_predict_test)):\n",
        "  if rounded_predict_test[i] < 0:\n",
        "    rounded_predict_test[i] = 0\n",
        "  elif rounded_predict_test[i] > 9:\n",
        "    rounded_predict_test[i] = 9\n",
        "# print(list(filter(lambda x : (x < 0) | (x > 9), rounded_predict_test)))\n",
        "test_accuracy = accuracy_score(y_test, rounded_predict_test)\n",
        "print(\"Linear Regression Test Accuracy:\", test_accuracy)\n",
        "\n",
        "# generateReport(y_test, rounded_predict_test, x_test, file_test, \"lin_reg\", \"test\")"
      ],
      "metadata": {
        "colab": {
          "base_uri": "https://localhost:8080/"
        },
        "id": "WsmZc5M---zo",
        "outputId": "801c6ff1-7399-401c-bdfd-3ebd3f8728f7"
      },
      "execution_count": null,
      "outputs": [
        {
          "output_type": "stream",
          "name": "stdout",
          "text": [
            "Linear Regression Train Accuracy: 0.11428571428571428\n",
            "Linear Regression Test Accuracy: 0.12666666666666668\n"
          ]
        }
      ]
    },
    {
      "cell_type": "markdown",
      "source": [
        "# Logistic Regression"
      ],
      "metadata": {
        "id": "zkV11QZyCnLp"
      }
    },
    {
      "cell_type": "code",
      "source": [
        "log_reg = LogisticRegression(random_state=random_state).fit(x_train, y_train)\n",
        "y_predict_train = log_reg.predict(x_train)\n",
        "y_predict_test = log_reg.predict(x_test)\n",
        "\n",
        "train_accuracy = accuracy_score(y_train, y_predict_train)\n",
        "print(\"Logistic Regression Train Accuracy:\", train_accuracy)\n",
        "\n",
        "test_accuracy = accuracy_score(y_test, y_predict_test)\n",
        "print(\"Logistic Regression Test Accuracy:\", test_accuracy)\n",
        "generateReport(y_test, y_predict_test, x_test, file_test, \"log_reg\", \"test\")"
      ],
      "metadata": {
        "colab": {
          "base_uri": "https://localhost:8080/"
        },
        "id": "zfRF3psNCuFx",
        "outputId": "e744e0cf-975f-4274-cd96-4d08abacb396"
      },
      "execution_count": null,
      "outputs": [
        {
          "output_type": "stream",
          "name": "stdout",
          "text": [
            "Logistic Regression Train Accuracy: 0.6114285714285714\n",
            "Logistic Regression Test Accuracy: 0.52\n"
          ]
        }
      ]
    },
    {
      "cell_type": "markdown",
      "source": [
        "# Random Forest Classifier"
      ],
      "metadata": {
        "id": "9dyd-HmjA3f_"
      }
    },
    {
      "cell_type": "code",
      "source": [
        "rf_clf = RandomForestClassifier(random_state=random_state).fit(x_train, y_train)\n",
        "y_predict_train = rf_clf.predict(x_train)\n",
        "y_predict_test = rf_clf.predict(x_test)\n",
        "\n",
        "train_accuracy = accuracy_score(y_train, y_predict_train)\n",
        "print(\"Random Forest Train Accuracy:\", train_accuracy)\n",
        "\n",
        "test_accuracy = accuracy_score(y_test, y_predict_test)\n",
        "print(\"Random Forest Test Accuracy:\", test_accuracy)\n",
        "\n",
        "# generateReport(y_test, y_predict_test, x_test, file_test, \"rf\", \"test\")"
      ],
      "metadata": {
        "colab": {
          "base_uri": "https://localhost:8080/"
        },
        "id": "x7z3ZpEOBWyG",
        "outputId": "e5453386-f434-4dfb-d7de-000c666978f0"
      },
      "execution_count": null,
      "outputs": [
        {
          "output_type": "stream",
          "name": "stdout",
          "text": [
            "Random Forest Train Accuracy: 1.0\n",
            "Random Forest Test Accuracy: 0.5666666666666667\n"
          ]
        }
      ]
    },
    {
      "cell_type": "markdown",
      "source": [
        "# Support Vector Machine"
      ],
      "metadata": {
        "id": "qV_N3SCuCtRT"
      }
    },
    {
      "cell_type": "code",
      "source": [
        "scaler = StandardScaler()\n",
        "scaler.fit(x_train)\n",
        "scaled_x_train = scaler.transform(x_train)\n",
        "scaled_x_test = scaler.transform(x_test)\n",
        "\n",
        "svm_clf = SVC(gamma='auto').fit(scaled_x_train, y_train)\n",
        "y_predict_train = svm_clf.predict(scaled_x_train)\n",
        "y_predict_test = svm_clf.predict(scaled_x_test)\n",
        "\n",
        "train_accuracy = accuracy_score(y_train, y_predict_train)\n",
        "print(\"Support Vector Machine Train Accuracy:\", train_accuracy)\n",
        "\n",
        "test_accuracy = accuracy_score(y_test, y_predict_test)\n",
        "print(\"Support Vector Machine Test Accuracy:\", test_accuracy)\n",
        "\n",
        "# generateReport(y_test, y_predict_test, x_test, file_test, \"svm_clf\", \"test\")"
      ],
      "metadata": {
        "colab": {
          "base_uri": "https://localhost:8080/"
        },
        "id": "hG4jNxYNCzu4",
        "outputId": "3c4230c9-77eb-4684-8356-ff8877699486"
      },
      "execution_count": null,
      "outputs": [
        {
          "output_type": "stream",
          "name": "stdout",
          "text": [
            "Support Vector Machine Train Accuracy: 0.7071428571428572\n",
            "Support Vector Machine Test Accuracy: 0.59\n"
          ]
        }
      ]
    },
    {
      "cell_type": "markdown",
      "source": [
        "# Multi-layer Perceptron Classifier"
      ],
      "metadata": {
        "id": "2JWAABqnFOtt"
      }
    },
    {
      "cell_type": "code",
      "source": [
        "mlp = MLPClassifier(random_state=random_state, hidden_layer_sizes=(256,128,64,10), activation='relu', solver='adam', max_iter=10000).fit(x_train,y_train)\n",
        "y_predict_train = mlp.predict(x_train)\n",
        "y_predict_test = mlp.predict(x_test)\n",
        "\n",
        "train_accuracy = accuracy_score(y_train, y_predict_train)\n",
        "print(\"Multi-layer Perceptron Classifier Train Accuracy:\", train_accuracy)\n",
        "\n",
        "test_accuracy = accuracy_score(y_test, y_predict_test)\n",
        "print(\"Multi-layer Perceptron Classifier Test Accuracy:\", test_accuracy)\n",
        "\n",
        "# generateReport(y_test, y_predict_test, x_test, file_test, \"mlp\", \"test\")"
      ],
      "metadata": {
        "colab": {
          "base_uri": "https://localhost:8080/"
        },
        "id": "piZRbrVVFVNm",
        "outputId": "aee8e2c3-475f-472d-eaec-327067d71e23"
      },
      "execution_count": null,
      "outputs": [
        {
          "output_type": "stream",
          "name": "stdout",
          "text": [
            "Multi-layer Perceptron Classifier Train Accuracy: 1.0\n",
            "Multi-layer Perceptron Classifier Test Accuracy: 0.5433333333333333\n"
          ]
        }
      ]
    },
    {
      "cell_type": "markdown",
      "source": [
        "# Gaussian Process Classifier"
      ],
      "metadata": {
        "id": "ySkttgSl2bhX"
      }
    },
    {
      "cell_type": "code",
      "source": [
        "gpc = GaussianProcessClassifier().fit(x_train,y_train)\n",
        "y_predict_train = gpc.predict(x_train)\n",
        "y_predict_test = gpc.predict(x_test)\n",
        "\n",
        "train_accuracy = accuracy_score(y_train, y_predict_train)\n",
        "print(\"Gaussian Process Classifier Train Accuracy:\", train_accuracy)\n",
        "\n",
        "test_accuracy = accuracy_score(y_test, y_predict_test)\n",
        "print(\"Gaussian Process Classifier Test Accuracy:\", test_accuracy)\n",
        "\n",
        "# generateReport(y_test, y_predict_test, x_test, file_test, \"gpc\", \"test\")"
      ],
      "metadata": {
        "colab": {
          "base_uri": "https://localhost:8080/"
        },
        "id": "hh7Lxsei2gNr",
        "outputId": "9551f37d-783b-409c-aab3-c04f40b6d745"
      },
      "execution_count": null,
      "outputs": [
        {
          "output_type": "stream",
          "name": "stdout",
          "text": [
            "Gaussian Process Classifier Train Accuracy: 0.96\n",
            "Gaussian Process Classifier Test Accuracy: 0.56\n"
          ]
        }
      ]
    },
    {
      "cell_type": "markdown",
      "source": [
        "# Gaussian Naive Bayes"
      ],
      "metadata": {
        "id": "fWRMIenZ3o-A"
      }
    },
    {
      "cell_type": "code",
      "source": [
        "gnb = GaussianNB().fit(x_train,y_train)\n",
        "y_predict_train = gnb.predict(x_train)\n",
        "y_predict_test = gnb.predict(x_test)\n",
        "\n",
        "train_accuracy = accuracy_score(y_train, y_predict_train)\n",
        "print(\"Gaussian Naive Bayes Classifier Train Accuracy:\", train_accuracy)\n",
        "\n",
        "test_accuracy = accuracy_score(y_test, y_predict_test)\n",
        "print(\"Gaussian Naive Bayes Classifier Test Accuracy:\", test_accuracy)\n",
        "\n",
        "# generateReport(y_test, y_predict_test, x_test, file_test, \"gnb\", \"test\")"
      ],
      "metadata": {
        "colab": {
          "base_uri": "https://localhost:8080/"
        },
        "id": "T6ACRorc3qZT",
        "outputId": "63e735a7-2d65-4180-9b00-c8e9a4ab1992"
      },
      "execution_count": null,
      "outputs": [
        {
          "output_type": "stream",
          "name": "stdout",
          "text": [
            "Gaussian Naive Bayes Classifier Train Accuracy: 0.4857142857142857\n",
            "Gaussian Naive Bayes Classifier Test Accuracy: 0.47333333333333333\n"
          ]
        }
      ]
    },
    {
      "cell_type": "markdown",
      "source": [
        "# KNN Classifier"
      ],
      "metadata": {
        "id": "uXDWFHk74RjN"
      }
    },
    {
      "cell_type": "code",
      "source": [
        "def knnClassifier(number_of_k):\n",
        "  knn = KNeighborsClassifier(n_neighbors=number_of_k).fit(x_train,y_train)\n",
        "  y_predict_train = knn.predict(x_train)\n",
        "  y_predict_test = knn.predict(x_test)\n",
        "\n",
        "  train_accuracy = accuracy_score(y_train, y_predict_train)\n",
        "  # print(\"KNN Classifier Train Accuracy:\", train_accuracy)\n",
        "\n",
        "  test_accuracy = accuracy_score(y_test, y_predict_test)\n",
        "  # print(\"KNN Classifier Test Accuracy:\", test_accuracy)\n",
        "\n",
        "  if(number_of_k == 6):\n",
        "    print(\"KNN Classifier Train Accuracy:\", train_accuracy)\n",
        "    print(\"KNN Classifier Test Accuracy:\", test_accuracy)\n",
        "\n",
        "    # generateReport(y_test, y_predict_test, x_test, file_test, \"knn\", \"test\")\n",
        "\n",
        "  return train_accuracy, test_accuracy\n",
        "\n",
        "train_acc_list = []\n",
        "test_acc_list = []\n",
        "number_of_k_list = []\n",
        "for i in range(20):\n",
        "  train_acc, test_acc = knnClassifier(i + 1)\n",
        "  train_acc_list.append(train_acc)\n",
        "  test_acc_list.append(test_acc)\n",
        "  number_of_k_list.append(i + 1)\n",
        "\n",
        "plt.plot(number_of_k_list, train_acc_list, label = \"train_acc\")\n",
        "plt.plot(number_of_k_list, test_acc_list, label = \"test_acc\")\n",
        "plt.legend()\n",
        "plt.show()\n"
      ],
      "metadata": {
        "colab": {
          "base_uri": "https://localhost:8080/",
          "height": 299
        },
        "id": "m5KOUQx84T6s",
        "outputId": "e5afdca4-1c26-491e-b6fc-e42af976bb1f"
      },
      "execution_count": null,
      "outputs": [
        {
          "output_type": "stream",
          "name": "stdout",
          "text": [
            "KNN Classifier Train Accuracy: 0.6685714285714286\n",
            "KNN Classifier Test Accuracy: 0.53\n"
          ]
        },
        {
          "output_type": "display_data",
          "data": {
            "text/plain": [
              "<Figure size 432x288 with 1 Axes>"
            ],
            "image/png": "[encoded data removed]"
          },
          "metadata": {
            "needs_background": "light"
          }
        }
      ]
    },
    {
      "cell_type": "markdown",
      "source": [
        "Finally, we use the well-trained models to predict 30 unlabeled songs which are provided by ourselves."
      ],
      "metadata": {
        "id": "rumidVq4NxU8"
      }
    },
    {
      "cell_type": "markdown",
      "source": [
        "# Testing Data Load"
      ],
      "metadata": {
        "id": "AeyIHyFA8Sw3"
      }
    },
    {
      "cell_type": "code",
      "source": [
        "test_data = pd.read_csv('test-data-with-filenames.csv', sep='\\t')\n",
        "test_data = test_data.iloc[: , 1:]\n",
        "headers = list(test_data.columns)\n",
        "random_state = 128\n",
        "test_data.head()"
      ],
      "metadata": {
        "colab": {
          "base_uri": "https://localhost:8080/",
          "height": 409
        },
        "id": "Dl2E7RSEMFw4",
        "outputId": "f34708db-bd62-4f66-a3fb-ea1225b50e72"
      },
      "execution_count": null,
      "outputs": [
        {
          "output_type": "execute_result",
          "data": {
            "text/plain": [
              "                        filepath     filename    genre       beats  \\\n",
              "0   data/test-dataset/Song-8.wav   Song-8.wav  UNKNOWN   89.102909   \n",
              "1   data/test-dataset/Song-9.wav   Song-9.wav  UNKNOWN  161.499023   \n",
              "2     data/test-dataset/Numb.wav     Numb.wav  UNKNOWN  112.347147   \n",
              "3  data/test-dataset/Song-10.wav  Song-10.wav  UNKNOWN   80.749512   \n",
              "4    data/test-dataset/Faint.wav    Faint.wav  UNKNOWN  135.999178   \n",
              "\n",
              "        tempo       plp  spectrogram  chromagram  tempogram  zero_crossings  \\\n",
              "0   89.102909  0.000000   -16.543032    0.332724   0.117920           41342   \n",
              "1  161.499023  0.000000   -20.206150    0.312816   0.142823           27891   \n",
              "2  112.347147  0.100649    -3.723843    0.353801   0.179449           83624   \n",
              "3  135.999178  0.322571   -28.617315    0.543128   0.178184            7713   \n",
              "4  135.999178  0.119786     1.106996    0.446038   0.197053          100786   \n",
              "\n",
              "   zero_crossing_rate  spectral_centroid  spectral_rolloff  spectral_contrast  \\\n",
              "0            0.061539        1510.052503       3030.086872          25.775860   \n",
              "1            0.042108        1191.686210       2253.855852          28.328128   \n",
              "2            0.101963        2329.571324       4824.446869          22.841285   \n",
              "3            0.011733         466.673594        687.799802          22.220836   \n",
              "4            0.148404        2672.091874       5226.400925          21.932053   \n",
              "\n",
              "   spectral_bandwidth  spectral_flatness       rms     mfccs  \n",
              "0         1735.260693           0.012133  0.153569 -6.271770  \n",
              "1         1759.827555           0.003698  0.112579 -3.528376  \n",
              "2         2379.415957           0.023899  0.228743  4.486484  \n",
              "3         1060.676634           0.000101  0.144264  3.794124  \n",
              "4         2449.910507           0.049539  0.236081  1.751070  "
            ],
            "text/html": [
              "\n",
              "  <div id=\"df-5e58ccd7-329b-4d51-9529-4b21e6b1eea8\">\n",
              "    <div class=\"colab-df-container\">\n",
              "      <div>\n",
              "<style scoped>\n",
              "    .dataframe tbody tr th:only-of-type {\n",
              "        vertical-align: middle;\n",
              "    }\n",
              "\n",
              "    .dataframe tbody tr th {\n",
              "        vertical-align: top;\n",
              "    }\n",
              "\n",
              "    .dataframe thead th {\n",
              "        text-align: right;\n",
              "    }\n",
              "</style>\n",
              "<table border=\"1\" class=\"dataframe\">\n",
              "  <thead>\n",
              "    <tr style=\"text-align: right;\">\n",
              "      <th></th>\n",
              "      <th>filepath</th>\n",
              "      <th>filename</th>\n",
              "      <th>genre</th>\n",
              "      <th>beats</th>\n",
              "      <th>tempo</th>\n",
              "      <th>plp</th>\n",
              "      <th>spectrogram</th>\n",
              "      <th>chromagram</th>\n",
              "      <th>tempogram</th>\n",
              "      <th>zero_crossings</th>\n",
              "      <th>zero_crossing_rate</th>\n",
              "      <th>spectral_centroid</th>\n",
              "      <th>spectral_rolloff</th>\n",
              "      <th>spectral_contrast</th>\n",
              "      <th>spectral_bandwidth</th>\n",
              "      <th>spectral_flatness</th>\n",
              "      <th>rms</th>\n",
              "      <th>mfccs</th>\n",
              "    </tr>\n",
              "  </thead>\n",
              "  <tbody>\n",
              "    <tr>\n",
              "      <th>0</th>\n",
              "      <td>data/test-dataset/Song-8.wav</td>\n",
              "      <td>Song-8.wav</td>\n",
              "      <td>UNKNOWN</td>\n",
              "      <td>89.102909</td>\n",
              "      <td>89.102909</td>\n",
              "      <td>0.000000</td>\n",
              "      <td>-16.543032</td>\n",
              "      <td>0.332724</td>\n",
              "      <td>0.117920</td>\n",
              "      <td>41342</td>\n",
              "      <td>0.061539</td>\n",
              "      <td>1510.052503</td>\n",
              "      <td>3030.086872</td>\n",
              "      <td>25.775860</td>\n",
              "      <td>1735.260693</td>\n",
              "      <td>0.012133</td>\n",
              "      <td>0.153569</td>\n",
              "      <td>-6.271770</td>\n",
              "    </tr>\n",
              "    <tr>\n",
              "      <th>1</th>\n",
              "      <td>data/test-dataset/Song-9.wav</td>\n",
              "      <td>Song-9.wav</td>\n",
              "      <td>UNKNOWN</td>\n",
              "      <td>161.499023</td>\n",
              "      <td>161.499023</td>\n",
              "      <td>0.000000</td>\n",
              "      <td>-20.206150</td>\n",
              "      <td>0.312816</td>\n",
              "      <td>0.142823</td>\n",
              "      <td>27891</td>\n",
              "      <td>0.042108</td>\n",
              "      <td>1191.686210</td>\n",
              "      <td>2253.855852</td>\n",
              "      <td>28.328128</td>\n",
              "      <td>1759.827555</td>\n",
              "      <td>0.003698</td>\n",
              "      <td>0.112579</td>\n",
              "      <td>-3.528376</td>\n",
              "    </tr>\n",
              "    <tr>\n",
              "      <th>2</th>\n",
              "      <td>data/test-dataset/Numb.wav</td>\n",
              "      <td>Numb.wav</td>\n",
              "      <td>UNKNOWN</td>\n",
              "      <td>112.347147</td>\n",
              "      <td>112.347147</td>\n",
              "      <td>0.100649</td>\n",
              "      <td>-3.723843</td>\n",
              "      <td>0.353801</td>\n",
              "      <td>0.179449</td>\n",
              "      <td>83624</td>\n",
              "      <td>0.101963</td>\n",
              "      <td>2329.571324</td>\n",
              "      <td>4824.446869</td>\n",
              "      <td>22.841285</td>\n",
              "      <td>2379.415957</td>\n",
              "      <td>0.023899</td>\n",
              "      <td>0.228743</td>\n",
              "      <td>4.486484</td>\n",
              "    </tr>\n",
              "    <tr>\n",
              "      <th>3</th>\n",
              "      <td>data/test-dataset/Song-10.wav</td>\n",
              "      <td>Song-10.wav</td>\n",
              "      <td>UNKNOWN</td>\n",
              "      <td>80.749512</td>\n",
              "      <td>135.999178</td>\n",
              "      <td>0.322571</td>\n",
              "      <td>-28.617315</td>\n",
              "      <td>0.543128</td>\n",
              "      <td>0.178184</td>\n",
              "      <td>7713</td>\n",
              "      <td>0.011733</td>\n",
              "      <td>466.673594</td>\n",
              "      <td>687.799802</td>\n",
              "      <td>22.220836</td>\n",
              "      <td>1060.676634</td>\n",
              "      <td>0.000101</td>\n",
              "      <td>0.144264</td>\n",
              "      <td>3.794124</td>\n",
              "    </tr>\n",
              "    <tr>\n",
              "      <th>4</th>\n",
              "      <td>data/test-dataset/Faint.wav</td>\n",
              "      <td>Faint.wav</td>\n",
              "      <td>UNKNOWN</td>\n",
              "      <td>135.999178</td>\n",
              "      <td>135.999178</td>\n",
              "      <td>0.119786</td>\n",
              "      <td>1.106996</td>\n",
              "      <td>0.446038</td>\n",
              "      <td>0.197053</td>\n",
              "      <td>100786</td>\n",
              "      <td>0.148404</td>\n",
              "      <td>2672.091874</td>\n",
              "      <td>5226.400925</td>\n",
              "      <td>21.932053</td>\n",
              "      <td>2449.910507</td>\n",
              "      <td>0.049539</td>\n",
              "      <td>0.236081</td>\n",
              "      <td>1.751070</td>\n",
              "    </tr>\n",
              "  </tbody>\n",
              "</table>\n",
              "</div>\n",
              "      <button class=\"colab-df-convert\" onclick=\"convertToInteractive('df-5e58ccd7-329b-4d51-9529-4b21e6b1eea8')\"\n",
              "              title=\"Convert this dataframe to an interactive table.\"\n",
              "              style=\"display:none;\">\n",
              "        \n",
              "  <svg xmlns=\"http://www.w3.org/2000/svg\" height=\"24px\"viewBox=\"0 0 24 24\"\n",
              "       width=\"24px\">\n",
              "    <path d=\"M0 0h24v24H0V0z\" fill=\"none\"/>\n",
              "    <path d=\"M18.56 5.44l.94 2.06.94-2.06 2.06-.94-2.06-.94-.94-2.06-.94 2.06-2.06.94zm-11 1L8.5 8.5l.94-2.06 2.06-.94-2.06-.94L8.5 2.5l-.94 2.06-2.06.94zm10 10l.94 2.06.94-2.06 2.06-.94-2.06-.94-.94-2.06-.94 2.06-2.06.94z\"/><path d=\"M17.41 7.96l-1.37-1.37c-.4-.4-.92-.59-1.43-.59-.52 0-1.04.2-1.43.59L10.3 9.45l-7.72 7.72c-.78.78-.78 2.05 0 2.83L4 21.41c.39.39.9.59 1.41.59.51 0 1.02-.2 1.41-.59l7.78-7.78 2.81-2.81c.8-.78.8-2.07 0-2.86zM5.41 20L4 18.59l7.72-7.72 1.47 1.35L5.41 20z\"/>\n",
              "  </svg>\n",
              "      </button>\n",
              "      \n",
              "  <style>\n",
              "    .colab-df-container {\n",
              "      display:flex;\n",
              "      flex-wrap:wrap;\n",
              "      gap: 12px;\n",
              "    }\n",
              "\n",
              "    .colab-df-convert {\n",
              "      background-color: #E8F0FE;\n",
              "      border: none;\n",
              "      border-radius: 50%;\n",
              "      cursor: pointer;\n",
              "      display: none;\n",
              "      fill: #1967D2;\n",
              "      height: 32px;\n",
              "      padding: 0 0 0 0;\n",
              "      width: 32px;\n",
              "    }\n",
              "\n",
              "    .colab-df-convert:hover {\n",
              "      background-color: #E2EBFA;\n",
              "      box-shadow: 0px 1px 2px rgba(60, 64, 67, 0.3), 0px 1px 3px 1px rgba(60, 64, 67, 0.15);\n",
              "      fill: #174EA6;\n",
              "    }\n",
              "\n",
              "    [theme=dark] .colab-df-convert {\n",
              "      background-color: #3B4455;\n",
              "      fill: #D2E3FC;\n",
              "    }\n",
              "\n",
              "    [theme=dark] .colab-df-convert:hover {\n",
              "      background-color: #434B5C;\n",
              "      box-shadow: 0px 1px 3px 1px rgba(0, 0, 0, 0.15);\n",
              "      filter: drop-shadow(0px 1px 2px rgba(0, 0, 0, 0.3));\n",
              "      fill: #FFFFFF;\n",
              "    }\n",
              "  </style>\n",
              "\n",
              "      <script>\n",
              "        const buttonEl =\n",
              "          document.querySelector('#df-5e58ccd7-329b-4d51-9529-4b21e6b1eea8 button.colab-df-convert');\n",
              "        buttonEl.style.display =\n",
              "          google.colab.kernel.accessAllowed ? 'block' : 'none';\n",
              "\n",
              "        async function convertToInteractive(key) {\n",
              "          const element = document.querySelector('#df-5e58ccd7-329b-4d51-9529-4b21e6b1eea8');\n",
              "          const dataTable =\n",
              "            await google.colab.kernel.invokeFunction('convertToInteractive',\n",
              "                                                     [key], {});\n",
              "          if (!dataTable) return;\n",
              "\n",
              "          const docLinkHtml = 'Like what you see? Visit the ' +\n",
              "            '<a target=\"_blank\" href=https://colab.research.google.com/notebooks/data_table.ipynb>data table notebook</a>'\n",
              "            + ' to learn more about interactive tables.';\n",
              "          element.innerHTML = '';\n",
              "          dataTable['output_type'] = 'display_data';\n",
              "          await google.colab.output.renderOutput(dataTable, element);\n",
              "          const docLink = document.createElement('div');\n",
              "          docLink.innerHTML = docLinkHtml;\n",
              "          element.appendChild(docLink);\n",
              "        }\n",
              "      </script>\n",
              "    </div>\n",
              "  </div>\n",
              "  "
            ]
          },
          "metadata": {},
          "execution_count": 30
        }
      ]
    },
    {
      "cell_type": "markdown",
      "source": [
        "# Preprocess Testing Data"
      ],
      "metadata": {
        "id": "8lHCyeQfMfeX"
      }
    },
    {
      "cell_type": "code",
      "source": [
        "# get training columns and normalization\n",
        "scaler = StandardScaler()\n",
        "x_test_data = scaler.fit_transform(np.array(test_data.loc[:, ~test_data.columns.isin([\"genre\", \"filepath\", \"filename\"])], dtype = float))\n",
        "\n",
        "# get target column\n",
        "y_test_data = test_data.loc[:, \"genre\"]\n",
        "\n",
        "# remove unneeded columns\n",
        "file_test_data = test_data.loc[:, test_data.columns.isin([\"filepath\", \"filename\"])]"
      ],
      "metadata": {
        "id": "bMYbkRAhqHCn"
      },
      "execution_count": null,
      "outputs": []
    },
    {
      "cell_type": "markdown",
      "source": [
        "# Testing Data Prediction"
      ],
      "metadata": {
        "id": "16KWa9U4qKNl"
      }
    },
    {
      "cell_type": "code",
      "source": [
        "prediction_results = pd.DataFrame(file_test_data)\n",
        "\n",
        "# Linear Regression\n",
        "y_test_data_predict = lin_reg.predict(x_test_data)\n",
        "y_test_data_predict = [round(x) for x in y_test_data_predict]\n",
        "for i in range(len(y_test_data_predict)):\n",
        "  if y_test_data_predict[i] < 0:\n",
        "    y_test_data_predict[i] = 0\n",
        "  elif y_test_data_predict[i] > 9:\n",
        "    y_test_data_predict[i] = 9\n",
        "lin_reg_prediction_results = pd.DataFrame(pd.DataFrame(y_test_data_predict)[0].apply(lambda x: genre_reverse_dict[x]))\n",
        "lin_reg_prediction_results.columns = [\"linear_regression\"]\n",
        "prediction_results = pd.concat([prediction_results, lin_reg_prediction_results], axis=1)\n",
        "\n",
        "# Logistic Regression\n",
        "y_test_data_predict = log_reg.predict(x_test_data)\n",
        "log_reg_prediction_results = pd.DataFrame(pd.DataFrame(y_test_data_predict)[0].apply(lambda x: genre_reverse_dict[x]))\n",
        "log_reg_prediction_results.columns = [\"logistic_regression\"]\n",
        "prediction_results = pd.concat([prediction_results, log_reg_prediction_results], axis=1)\n",
        "\n",
        "# Random Forest\n",
        "y_test_data_predict = rf_clf.predict(x_test_data)\n",
        "rf_prediction_results = pd.DataFrame(pd.DataFrame(y_test_data_predict)[0].apply(lambda x: genre_reverse_dict[x]))\n",
        "rf_prediction_results.columns = [\"random_forest\"]\n",
        "prediction_results = pd.concat([prediction_results, rf_prediction_results], axis=1)\n",
        "\n",
        "# SVM\n",
        "scaler = StandardScaler()\n",
        "scaler.fit(x_train)\n",
        "scaled_x_test_data = scaler.transform(x_test_data)\n",
        "y_test_data_predict = svm_clf.predict(scaled_x_test_data)\n",
        "svm_prediction_results = pd.DataFrame(pd.DataFrame(y_test_data_predict)[0].apply(lambda x: genre_reverse_dict[x]))\n",
        "svm_prediction_results.columns = [\"svm\"]\n",
        "prediction_results = pd.concat([prediction_results, svm_prediction_results], axis=1)\n",
        "\n",
        "# Multi-layer Perceptron\n",
        "y_test_data_predict = mlp.predict(x_test_data)\n",
        "mlp_prediction_results = pd.DataFrame(pd.DataFrame(y_test_data_predict)[0].apply(lambda x: genre_reverse_dict[x]))\n",
        "mlp_prediction_results.columns = [\"multi-layer_perceptron\"]\n",
        "prediction_results = pd.concat([prediction_results, mlp_prediction_results], axis=1)\n",
        "\n",
        "# Gaussian Process\n",
        "y_test_data_predict = gpc.predict(x_test_data)\n",
        "gpc_prediction_results = pd.DataFrame(pd.DataFrame(y_test_data_predict)[0].apply(lambda x: genre_reverse_dict[x]))\n",
        "gpc_prediction_results.columns = [\"gaussian_process\"]\n",
        "prediction_results = pd.concat([prediction_results, gpc_prediction_results], axis=1)\n",
        "\n",
        "# Gaussian Naive Bayes\n",
        "y_test_data_predict = gnb.predict(x_test_data)\n",
        "gnb_prediction_results = pd.DataFrame(pd.DataFrame(y_test_data_predict)[0].apply(lambda x: genre_reverse_dict[x]))\n",
        "gnb_prediction_results.columns = [\"gaussian_naive_bayes\"]\n",
        "prediction_results = pd.concat([prediction_results, gnb_prediction_results], axis=1)\n",
        "\n",
        "# KNN\n",
        "knn = KNeighborsClassifier(6).fit(x_train, y_train)\n",
        "y_test_data_predict = knn.predict(x_test_data)\n",
        "knn_prediction_results = pd.DataFrame(pd.DataFrame(y_test_data_predict)[0].apply(lambda x: genre_reverse_dict[x]))\n",
        "knn_prediction_results.columns = [\"knn\"]\n",
        "prediction_results = pd.concat([prediction_results, knn_prediction_results], axis=1)\n",
        "\n",
        "training_cols = pd.DataFrame(x_test_data)\n",
        "training_cols_headers = headers[3:]\n",
        "training_cols.columns = training_cols_headers\n",
        "prediction_results = pd.concat([prediction_results, training_cols], axis=1)\n",
        "prediction_results.to_csv(\"test-data-prediction-results.csv\", sep=\",\", header=True, index=True)"
      ],
      "metadata": {
        "id": "AB5WRiHXMjsZ"
      },
      "execution_count": null,
      "outputs": []
    }
  ]
}